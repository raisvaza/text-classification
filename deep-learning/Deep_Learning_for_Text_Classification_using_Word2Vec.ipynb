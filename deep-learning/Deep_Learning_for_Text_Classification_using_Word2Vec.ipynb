{
  "cells": [
    {
      "cell_type": "markdown",
      "metadata": {
        "id": "-M-hnqBUoQnd"
      },
      "source": [
        "# Deep Learning for Text Classification using Word2Vec"
      ]
    },
    {
      "cell_type": "markdown",
      "metadata": {
        "id": "F2RjkDUNoQnf"
      },
      "source": [
        "## Import Libraries"
      ]
    },
    {
      "cell_type": "code",
      "source": [
        "!pip install sastrawi"
      ],
      "metadata": {
        "colab": {
          "base_uri": "https://localhost:8080/"
        },
        "id": "sbKhtGtCpCM2",
        "outputId": "0c7a46d2-1e72-4d81-ed7a-11da90c0a235"
      },
      "execution_count": 46,
      "outputs": [
        {
          "output_type": "stream",
          "name": "stdout",
          "text": [
            "Looking in indexes: https://pypi.org/simple, https://us-python.pkg.dev/colab-wheels/public/simple/\n",
            "Requirement already satisfied: sastrawi in /usr/local/lib/python3.7/dist-packages (1.0.1)\n"
          ]
        }
      ]
    },
    {
      "cell_type": "code",
      "execution_count": 47,
      "metadata": {
        "id": "Uycq4CRjoQng",
        "colab": {
          "base_uri": "https://localhost:8080/"
        },
        "outputId": "246b5622-c3cc-4202-b030-4e65e3d68f71"
      },
      "outputs": [
        {
          "output_type": "stream",
          "name": "stderr",
          "text": [
            "[nltk_data] Downloading package punkt to /root/nltk_data...\n",
            "[nltk_data]   Package punkt is already up-to-date!\n"
          ]
        }
      ],
      "source": [
        "import pandas as pd\n",
        "import numpy as np\n",
        "\n",
        "import matplotlib.pyplot as plt\n",
        "import seaborn as sns\n",
        "\n",
        "import re\n",
        "import nltk\n",
        "nltk.download('punkt')\n",
        "\n",
        "import gensim\n",
        "from Sastrawi.StopWordRemover.StopWordRemoverFactory import StopWordRemoverFactory\n",
        "\n",
        "import tensorflow as tf\n",
        "from tensorflow.keras import models, layers, preprocessing as kprocessing\n",
        "from tensorflow.keras import backend as K\n",
        "\n",
        "from sklearn.metrics import accuracy_score, precision_score, recall_score, f1_score, confusion_matrix, ConfusionMatrixDisplay"
      ]
    },
    {
      "cell_type": "markdown",
      "metadata": {
        "id": "NvSbBEIPoQnh"
      },
      "source": [
        "## Import Data"
      ]
    },
    {
      "cell_type": "code",
      "source": [
        "train = pd.read_csv(\"train.csv\")\n",
        "test = pd.read_csv(\"test.csv\")"
      ],
      "metadata": {
        "id": "B0j3ivcbawC1"
      },
      "execution_count": 48,
      "outputs": []
    },
    {
      "cell_type": "code",
      "source": [
        "train"
      ],
      "metadata": {
        "colab": {
          "base_uri": "https://localhost:8080/",
          "height": 424
        },
        "id": "ORGwwzBmax1e",
        "outputId": "ab79fb64-466a-4a54-9f8a-cd4c476ea65c"
      },
      "execution_count": 49,
      "outputs": [
        {
          "output_type": "execute_result",
          "data": {
            "text/plain": [
              "       Unnamed: 0                                             text_a label\n",
              "0               0  betewe buka twitter cuman ngetweet liat home b...    no\n",
              "1               1  mas piyuuu mugo2 corona tuh mulut tersumpal ma...    no\n",
              "2               2  e100ss gini buka informasi sejelas nya identit...   yes\n",
              "3               3  neng solo wes ono terduga corona cobo neng ati...    no\n",
              "4               4  midiahn nii akun gak takut takut nya isu coron...    no\n",
              "...           ...                                                ...   ...\n",
              "21596       21596  depok panas ga karuan kereta sampe pasming huj...    no\n",
              "21597       21597  oxfara arie kriting yg lebi goblo nya orang ke...    no\n",
              "21598       21598  virus corona menyaba depok cuci tangan makan n...    no\n",
              "21599       21599  mata sipit tinggal depok udah abis dah bahan c...    no\n",
              "21600       21600       i ak batuk pilek pusing demam anjir ak depok    no\n",
              "\n",
              "[21601 rows x 3 columns]"
            ],
            "text/html": [
              "\n",
              "  <div id=\"df-dc9ca9f2-5dfc-4529-8291-8a1b7fecdc31\">\n",
              "    <div class=\"colab-df-container\">\n",
              "      <div>\n",
              "<style scoped>\n",
              "    .dataframe tbody tr th:only-of-type {\n",
              "        vertical-align: middle;\n",
              "    }\n",
              "\n",
              "    .dataframe tbody tr th {\n",
              "        vertical-align: top;\n",
              "    }\n",
              "\n",
              "    .dataframe thead th {\n",
              "        text-align: right;\n",
              "    }\n",
              "</style>\n",
              "<table border=\"1\" class=\"dataframe\">\n",
              "  <thead>\n",
              "    <tr style=\"text-align: right;\">\n",
              "      <th></th>\n",
              "      <th>Unnamed: 0</th>\n",
              "      <th>text_a</th>\n",
              "      <th>label</th>\n",
              "    </tr>\n",
              "  </thead>\n",
              "  <tbody>\n",
              "    <tr>\n",
              "      <th>0</th>\n",
              "      <td>0</td>\n",
              "      <td>betewe buka twitter cuman ngetweet liat home b...</td>\n",
              "      <td>no</td>\n",
              "    </tr>\n",
              "    <tr>\n",
              "      <th>1</th>\n",
              "      <td>1</td>\n",
              "      <td>mas piyuuu mugo2 corona tuh mulut tersumpal ma...</td>\n",
              "      <td>no</td>\n",
              "    </tr>\n",
              "    <tr>\n",
              "      <th>2</th>\n",
              "      <td>2</td>\n",
              "      <td>e100ss gini buka informasi sejelas nya identit...</td>\n",
              "      <td>yes</td>\n",
              "    </tr>\n",
              "    <tr>\n",
              "      <th>3</th>\n",
              "      <td>3</td>\n",
              "      <td>neng solo wes ono terduga corona cobo neng ati...</td>\n",
              "      <td>no</td>\n",
              "    </tr>\n",
              "    <tr>\n",
              "      <th>4</th>\n",
              "      <td>4</td>\n",
              "      <td>midiahn nii akun gak takut takut nya isu coron...</td>\n",
              "      <td>no</td>\n",
              "    </tr>\n",
              "    <tr>\n",
              "      <th>...</th>\n",
              "      <td>...</td>\n",
              "      <td>...</td>\n",
              "      <td>...</td>\n",
              "    </tr>\n",
              "    <tr>\n",
              "      <th>21596</th>\n",
              "      <td>21596</td>\n",
              "      <td>depok panas ga karuan kereta sampe pasming huj...</td>\n",
              "      <td>no</td>\n",
              "    </tr>\n",
              "    <tr>\n",
              "      <th>21597</th>\n",
              "      <td>21597</td>\n",
              "      <td>oxfara arie kriting yg lebi goblo nya orang ke...</td>\n",
              "      <td>no</td>\n",
              "    </tr>\n",
              "    <tr>\n",
              "      <th>21598</th>\n",
              "      <td>21598</td>\n",
              "      <td>virus corona menyaba depok cuci tangan makan n...</td>\n",
              "      <td>no</td>\n",
              "    </tr>\n",
              "    <tr>\n",
              "      <th>21599</th>\n",
              "      <td>21599</td>\n",
              "      <td>mata sipit tinggal depok udah abis dah bahan c...</td>\n",
              "      <td>no</td>\n",
              "    </tr>\n",
              "    <tr>\n",
              "      <th>21600</th>\n",
              "      <td>21600</td>\n",
              "      <td>i ak batuk pilek pusing demam anjir ak depok</td>\n",
              "      <td>no</td>\n",
              "    </tr>\n",
              "  </tbody>\n",
              "</table>\n",
              "<p>21601 rows × 3 columns</p>\n",
              "</div>\n",
              "      <button class=\"colab-df-convert\" onclick=\"convertToInteractive('df-dc9ca9f2-5dfc-4529-8291-8a1b7fecdc31')\"\n",
              "              title=\"Convert this dataframe to an interactive table.\"\n",
              "              style=\"display:none;\">\n",
              "        \n",
              "  <svg xmlns=\"http://www.w3.org/2000/svg\" height=\"24px\"viewBox=\"0 0 24 24\"\n",
              "       width=\"24px\">\n",
              "    <path d=\"M0 0h24v24H0V0z\" fill=\"none\"/>\n",
              "    <path d=\"M18.56 5.44l.94 2.06.94-2.06 2.06-.94-2.06-.94-.94-2.06-.94 2.06-2.06.94zm-11 1L8.5 8.5l.94-2.06 2.06-.94-2.06-.94L8.5 2.5l-.94 2.06-2.06.94zm10 10l.94 2.06.94-2.06 2.06-.94-2.06-.94-.94-2.06-.94 2.06-2.06.94z\"/><path d=\"M17.41 7.96l-1.37-1.37c-.4-.4-.92-.59-1.43-.59-.52 0-1.04.2-1.43.59L10.3 9.45l-7.72 7.72c-.78.78-.78 2.05 0 2.83L4 21.41c.39.39.9.59 1.41.59.51 0 1.02-.2 1.41-.59l7.78-7.78 2.81-2.81c.8-.78.8-2.07 0-2.86zM5.41 20L4 18.59l7.72-7.72 1.47 1.35L5.41 20z\"/>\n",
              "  </svg>\n",
              "      </button>\n",
              "      \n",
              "  <style>\n",
              "    .colab-df-container {\n",
              "      display:flex;\n",
              "      flex-wrap:wrap;\n",
              "      gap: 12px;\n",
              "    }\n",
              "\n",
              "    .colab-df-convert {\n",
              "      background-color: #E8F0FE;\n",
              "      border: none;\n",
              "      border-radius: 50%;\n",
              "      cursor: pointer;\n",
              "      display: none;\n",
              "      fill: #1967D2;\n",
              "      height: 32px;\n",
              "      padding: 0 0 0 0;\n",
              "      width: 32px;\n",
              "    }\n",
              "\n",
              "    .colab-df-convert:hover {\n",
              "      background-color: #E2EBFA;\n",
              "      box-shadow: 0px 1px 2px rgba(60, 64, 67, 0.3), 0px 1px 3px 1px rgba(60, 64, 67, 0.15);\n",
              "      fill: #174EA6;\n",
              "    }\n",
              "\n",
              "    [theme=dark] .colab-df-convert {\n",
              "      background-color: #3B4455;\n",
              "      fill: #D2E3FC;\n",
              "    }\n",
              "\n",
              "    [theme=dark] .colab-df-convert:hover {\n",
              "      background-color: #434B5C;\n",
              "      box-shadow: 0px 1px 3px 1px rgba(0, 0, 0, 0.15);\n",
              "      filter: drop-shadow(0px 1px 2px rgba(0, 0, 0, 0.3));\n",
              "      fill: #FFFFFF;\n",
              "    }\n",
              "  </style>\n",
              "\n",
              "      <script>\n",
              "        const buttonEl =\n",
              "          document.querySelector('#df-dc9ca9f2-5dfc-4529-8291-8a1b7fecdc31 button.colab-df-convert');\n",
              "        buttonEl.style.display =\n",
              "          google.colab.kernel.accessAllowed ? 'block' : 'none';\n",
              "\n",
              "        async function convertToInteractive(key) {\n",
              "          const element = document.querySelector('#df-dc9ca9f2-5dfc-4529-8291-8a1b7fecdc31');\n",
              "          const dataTable =\n",
              "            await google.colab.kernel.invokeFunction('convertToInteractive',\n",
              "                                                     [key], {});\n",
              "          if (!dataTable) return;\n",
              "\n",
              "          const docLinkHtml = 'Like what you see? Visit the ' +\n",
              "            '<a target=\"_blank\" href=https://colab.research.google.com/notebooks/data_table.ipynb>data table notebook</a>'\n",
              "            + ' to learn more about interactive tables.';\n",
              "          element.innerHTML = '';\n",
              "          dataTable['output_type'] = 'display_data';\n",
              "          await google.colab.output.renderOutput(dataTable, element);\n",
              "          const docLink = document.createElement('div');\n",
              "          docLink.innerHTML = docLinkHtml;\n",
              "          element.appendChild(docLink);\n",
              "        }\n",
              "      </script>\n",
              "    </div>\n",
              "  </div>\n",
              "  "
            ]
          },
          "metadata": {},
          "execution_count": 49
        }
      ]
    },
    {
      "cell_type": "code",
      "source": [
        "test"
      ],
      "metadata": {
        "colab": {
          "base_uri": "https://localhost:8080/",
          "height": 424
        },
        "id": "byVs21jRa3rm",
        "outputId": "8be9438f-a0ef-41f7-ffdd-afeba0735702"
      },
      "execution_count": 50,
      "outputs": [
        {
          "output_type": "execute_result",
          "data": {
            "text/plain": [
              "                                                 text_a label\n",
              "0                               jek dajal ga depok bang    no\n",
              "1     detikcom untung depok masuk wilayah nya ridwan...    no\n",
              "2     df dom jakarta depok yg gunain vc cabang nya c...    no\n",
              "3                                     your2rl depok jkt    no\n",
              "4     doakan indonesia selamat virus corona pkb depo...   yes\n",
              "...                                                 ...   ...\n",
              "2795  ku tenang2 bae ku sih ya corona nya ga depok k...    no\n",
              "2796  guru hati hati ya virus corona uda indonesia t...   yes\n",
              "2797  4 terawan menyebut virus corona indonesia terd...   yes\n",
              "2798        realffk buhari can t pronounce corona virus    no\n",
              "2799  hadapi wabah corona pemuda muhammadiyah pemeri...   yes\n",
              "\n",
              "[2800 rows x 2 columns]"
            ],
            "text/html": [
              "\n",
              "  <div id=\"df-74314efb-c594-4081-a16d-5d2f2b5114d8\">\n",
              "    <div class=\"colab-df-container\">\n",
              "      <div>\n",
              "<style scoped>\n",
              "    .dataframe tbody tr th:only-of-type {\n",
              "        vertical-align: middle;\n",
              "    }\n",
              "\n",
              "    .dataframe tbody tr th {\n",
              "        vertical-align: top;\n",
              "    }\n",
              "\n",
              "    .dataframe thead th {\n",
              "        text-align: right;\n",
              "    }\n",
              "</style>\n",
              "<table border=\"1\" class=\"dataframe\">\n",
              "  <thead>\n",
              "    <tr style=\"text-align: right;\">\n",
              "      <th></th>\n",
              "      <th>text_a</th>\n",
              "      <th>label</th>\n",
              "    </tr>\n",
              "  </thead>\n",
              "  <tbody>\n",
              "    <tr>\n",
              "      <th>0</th>\n",
              "      <td>jek dajal ga depok bang</td>\n",
              "      <td>no</td>\n",
              "    </tr>\n",
              "    <tr>\n",
              "      <th>1</th>\n",
              "      <td>detikcom untung depok masuk wilayah nya ridwan...</td>\n",
              "      <td>no</td>\n",
              "    </tr>\n",
              "    <tr>\n",
              "      <th>2</th>\n",
              "      <td>df dom jakarta depok yg gunain vc cabang nya c...</td>\n",
              "      <td>no</td>\n",
              "    </tr>\n",
              "    <tr>\n",
              "      <th>3</th>\n",
              "      <td>your2rl depok jkt</td>\n",
              "      <td>no</td>\n",
              "    </tr>\n",
              "    <tr>\n",
              "      <th>4</th>\n",
              "      <td>doakan indonesia selamat virus corona pkb depo...</td>\n",
              "      <td>yes</td>\n",
              "    </tr>\n",
              "    <tr>\n",
              "      <th>...</th>\n",
              "      <td>...</td>\n",
              "      <td>...</td>\n",
              "    </tr>\n",
              "    <tr>\n",
              "      <th>2795</th>\n",
              "      <td>ku tenang2 bae ku sih ya corona nya ga depok k...</td>\n",
              "      <td>no</td>\n",
              "    </tr>\n",
              "    <tr>\n",
              "      <th>2796</th>\n",
              "      <td>guru hati hati ya virus corona uda indonesia t...</td>\n",
              "      <td>yes</td>\n",
              "    </tr>\n",
              "    <tr>\n",
              "      <th>2797</th>\n",
              "      <td>4 terawan menyebut virus corona indonesia terd...</td>\n",
              "      <td>yes</td>\n",
              "    </tr>\n",
              "    <tr>\n",
              "      <th>2798</th>\n",
              "      <td>realffk buhari can t pronounce corona virus</td>\n",
              "      <td>no</td>\n",
              "    </tr>\n",
              "    <tr>\n",
              "      <th>2799</th>\n",
              "      <td>hadapi wabah corona pemuda muhammadiyah pemeri...</td>\n",
              "      <td>yes</td>\n",
              "    </tr>\n",
              "  </tbody>\n",
              "</table>\n",
              "<p>2800 rows × 2 columns</p>\n",
              "</div>\n",
              "      <button class=\"colab-df-convert\" onclick=\"convertToInteractive('df-74314efb-c594-4081-a16d-5d2f2b5114d8')\"\n",
              "              title=\"Convert this dataframe to an interactive table.\"\n",
              "              style=\"display:none;\">\n",
              "        \n",
              "  <svg xmlns=\"http://www.w3.org/2000/svg\" height=\"24px\"viewBox=\"0 0 24 24\"\n",
              "       width=\"24px\">\n",
              "    <path d=\"M0 0h24v24H0V0z\" fill=\"none\"/>\n",
              "    <path d=\"M18.56 5.44l.94 2.06.94-2.06 2.06-.94-2.06-.94-.94-2.06-.94 2.06-2.06.94zm-11 1L8.5 8.5l.94-2.06 2.06-.94-2.06-.94L8.5 2.5l-.94 2.06-2.06.94zm10 10l.94 2.06.94-2.06 2.06-.94-2.06-.94-.94-2.06-.94 2.06-2.06.94z\"/><path d=\"M17.41 7.96l-1.37-1.37c-.4-.4-.92-.59-1.43-.59-.52 0-1.04.2-1.43.59L10.3 9.45l-7.72 7.72c-.78.78-.78 2.05 0 2.83L4 21.41c.39.39.9.59 1.41.59.51 0 1.02-.2 1.41-.59l7.78-7.78 2.81-2.81c.8-.78.8-2.07 0-2.86zM5.41 20L4 18.59l7.72-7.72 1.47 1.35L5.41 20z\"/>\n",
              "  </svg>\n",
              "      </button>\n",
              "      \n",
              "  <style>\n",
              "    .colab-df-container {\n",
              "      display:flex;\n",
              "      flex-wrap:wrap;\n",
              "      gap: 12px;\n",
              "    }\n",
              "\n",
              "    .colab-df-convert {\n",
              "      background-color: #E8F0FE;\n",
              "      border: none;\n",
              "      border-radius: 50%;\n",
              "      cursor: pointer;\n",
              "      display: none;\n",
              "      fill: #1967D2;\n",
              "      height: 32px;\n",
              "      padding: 0 0 0 0;\n",
              "      width: 32px;\n",
              "    }\n",
              "\n",
              "    .colab-df-convert:hover {\n",
              "      background-color: #E2EBFA;\n",
              "      box-shadow: 0px 1px 2px rgba(60, 64, 67, 0.3), 0px 1px 3px 1px rgba(60, 64, 67, 0.15);\n",
              "      fill: #174EA6;\n",
              "    }\n",
              "\n",
              "    [theme=dark] .colab-df-convert {\n",
              "      background-color: #3B4455;\n",
              "      fill: #D2E3FC;\n",
              "    }\n",
              "\n",
              "    [theme=dark] .colab-df-convert:hover {\n",
              "      background-color: #434B5C;\n",
              "      box-shadow: 0px 1px 3px 1px rgba(0, 0, 0, 0.15);\n",
              "      filter: drop-shadow(0px 1px 2px rgba(0, 0, 0, 0.3));\n",
              "      fill: #FFFFFF;\n",
              "    }\n",
              "  </style>\n",
              "\n",
              "      <script>\n",
              "        const buttonEl =\n",
              "          document.querySelector('#df-74314efb-c594-4081-a16d-5d2f2b5114d8 button.colab-df-convert');\n",
              "        buttonEl.style.display =\n",
              "          google.colab.kernel.accessAllowed ? 'block' : 'none';\n",
              "\n",
              "        async function convertToInteractive(key) {\n",
              "          const element = document.querySelector('#df-74314efb-c594-4081-a16d-5d2f2b5114d8');\n",
              "          const dataTable =\n",
              "            await google.colab.kernel.invokeFunction('convertToInteractive',\n",
              "                                                     [key], {});\n",
              "          if (!dataTable) return;\n",
              "\n",
              "          const docLinkHtml = 'Like what you see? Visit the ' +\n",
              "            '<a target=\"_blank\" href=https://colab.research.google.com/notebooks/data_table.ipynb>data table notebook</a>'\n",
              "            + ' to learn more about interactive tables.';\n",
              "          element.innerHTML = '';\n",
              "          dataTable['output_type'] = 'display_data';\n",
              "          await google.colab.output.renderOutput(dataTable, element);\n",
              "          const docLink = document.createElement('div');\n",
              "          docLink.innerHTML = docLinkHtml;\n",
              "          element.appendChild(docLink);\n",
              "        }\n",
              "      </script>\n",
              "    </div>\n",
              "  </div>\n",
              "  "
            ]
          },
          "metadata": {},
          "execution_count": 50
        }
      ]
    },
    {
      "cell_type": "code",
      "execution_count": 51,
      "metadata": {
        "id": "v9hBmgtsoQnh"
      },
      "outputs": [],
      "source": [
        "X_train = train['text_a'].values\n",
        "y_train = train['label'].values\n",
        "\n",
        "X_test = test['text_a'].values\n",
        "y_test = test['label'].values"
      ]
    },
    {
      "cell_type": "code",
      "source": [
        "X_train"
      ],
      "metadata": {
        "colab": {
          "base_uri": "https://localhost:8080/"
        },
        "id": "o8Jz0ducqVDv",
        "outputId": "064f4cc9-75b2-4e72-88ed-a55df2ea7ac6"
      },
      "execution_count": 52,
      "outputs": [
        {
          "output_type": "execute_result",
          "data": {
            "text/plain": [
              "array(['betewe buka twitter cuman ngetweet liat home berita corona panik kepikiran ndamau buka2 home yg aware aja i ll stay at home nda rumah kalo nda penting2 banget',\n",
              "       'mas piyuuu mugo2 corona tuh mulut tersumpal ma corona',\n",
              "       'e100ss gini buka informasi sejelas nya identitas daerah penderita terjangkit infokan masyarakat mengisolasi nya kontak langsung penderita positif corona ditutup tutupi',\n",
              "       ...,\n",
              "       'virus corona menyaba depok cuci tangan makan nya biar tangan ora lengket be kena nasi',\n",
              "       'mata sipit tinggal depok udah abis dah bahan cengan dikampus bangsd dikit dikit corona co amp tol',\n",
              "       'i ak batuk pilek pusing demam anjir ak depok'], dtype=object)"
            ]
          },
          "metadata": {},
          "execution_count": 52
        }
      ]
    },
    {
      "cell_type": "code",
      "source": [
        "y_train"
      ],
      "metadata": {
        "colab": {
          "base_uri": "https://localhost:8080/"
        },
        "id": "hR3yveDgqc52",
        "outputId": "3b63444e-6d75-4cf6-e5ba-ec470b6cbb6c"
      },
      "execution_count": 53,
      "outputs": [
        {
          "output_type": "execute_result",
          "data": {
            "text/plain": [
              "array(['no', 'no', 'yes', ..., 'no', 'no', 'no'], dtype=object)"
            ]
          },
          "metadata": {},
          "execution_count": 53
        }
      ]
    },
    {
      "cell_type": "code",
      "source": [
        "X_test"
      ],
      "metadata": {
        "colab": {
          "base_uri": "https://localhost:8080/"
        },
        "id": "wAUesdAZqgAX",
        "outputId": "2270a01a-7559-4747-a12b-722b2927be0a"
      },
      "execution_count": 54,
      "outputs": [
        {
          "output_type": "execute_result",
          "data": {
            "text/plain": [
              "array(['jek dajal ga depok bang',\n",
              "       'detikcom untung depok masuk wilayah nya ridwan kamil kalo masuk wilayah nya anis abis lu bully ama buzzer kolam',\n",
              "       'df dom jakarta depok yg gunain vc cabang nya cabang yg tercantum pas kesana gabisa bayar pake shopeepay',\n",
              "       ...,\n",
              "       '4 terawan menyebut virus corona indonesia terdeteksi minggu kemarin mendengar berita pemerintah langsung pemeriksaan covid19indonesia',\n",
              "       'realffk buhari can t pronounce corona virus',\n",
              "       'hadapi wabah corona pemuda muhammadiyah pemerintah cegah munculnya kepanikan'],\n",
              "      dtype=object)"
            ]
          },
          "metadata": {},
          "execution_count": 54
        }
      ]
    },
    {
      "cell_type": "code",
      "source": [
        "y_test"
      ],
      "metadata": {
        "colab": {
          "base_uri": "https://localhost:8080/"
        },
        "id": "x-gBcvcBqxc3",
        "outputId": "1534e80b-9211-4e2a-fda8-2bd4bdc09660"
      },
      "execution_count": 55,
      "outputs": [
        {
          "output_type": "execute_result",
          "data": {
            "text/plain": [
              "array(['no', 'no', 'no', ..., 'yes', 'no', 'yes'], dtype=object)"
            ]
          },
          "metadata": {},
          "execution_count": 55
        }
      ]
    },
    {
      "cell_type": "markdown",
      "metadata": {
        "id": "-CgeZKKmoQnh"
      },
      "source": [
        "## Functions"
      ]
    },
    {
      "cell_type": "code",
      "execution_count": 56,
      "metadata": {
        "id": "a_h62chioQni"
      },
      "outputs": [],
      "source": [
        "def clean_data(text):\n",
        "    normal_tw = text\n",
        "    normal_tw = text.lower()\n",
        "    normal_tw = re.sub(r'\\\\x.{2}', '', normal_tw)\n",
        "    normal_tw = re.sub(r'((www\\.[^\\s]*)|(https?://[^\\s]*))', '', normal_tw)\n",
        "    normal_tw = normal_tw.strip()\n",
        "    normal_tw = re.sub(r'@[^\\s]+', '', normal_tw)\n",
        "    normal_tw = re.sub(r'#[^\\s]+', '', normal_tw)\n",
        "    normal_tw = re.sub(r'\\d+', ' ', normal_tw) \n",
        "    normal_tw = re.sub(r'^nan$', '', normal_tw) \n",
        "    normal_tw = re.sub(r'[_]+', '', normal_tw)\n",
        "    normal_tw =  re.sub(r'[Ã°Âã¯¹¢²ðƒâ]', '', normal_tw) \n",
        "    normal_regex = re.compile(r\"(.)\\1{1,}\")\n",
        "    normal_tw = normal_regex.sub(r\"\\1\\1\", normal_tw)\n",
        "    normal_tw = re.sub(r'\\s+', ' ', normal_tw)\n",
        "    normal_tw = re.sub(r'[^\\w\\s]', '', normal_tw) \n",
        "    normal_tw = re.sub(r'[^\\x00-\\x7F\\x80-\\xFF\\u0100-\\u017F\\u0180-\\u024F\\u1E00-\\u1EFF]', '', normal_tw)\n",
        "    normal_tw = re.sub(r'[0123456789]', '', normal_tw)\n",
        "    \n",
        "    return normal_tw\n",
        "\n",
        "stopwords_list = set(StopWordRemoverFactory().get_stop_words())\n",
        "\n",
        "def tokenize_text(text):\n",
        "    return nltk.word_tokenize(text)\n",
        "\n",
        "def remove_stopwords(tokenized_text):\n",
        "    # token = nltk.word_tokenize(text)\n",
        "    token_afterremoval = []\n",
        "    for k in tokenized_text:\n",
        "        if k not in stopwords_list: \n",
        "            token_afterremoval.append(k)\n",
        "\n",
        "    str_clean = ' '.join(token_afterremoval)\n",
        "    return token_afterremoval\n",
        "\n",
        "def preprocess(text):\n",
        "    processed_text = clean_data(text)\n",
        "    # processed_text = processed_text.lower()\n",
        "    processed_text = tokenize_text(processed_text)\n",
        "    processed_text = remove_stopwords(processed_text)\n",
        "    return processed_text\n",
        "\n",
        "def find_max_length(data):\n",
        "    max = len(data[0])\n",
        "    index = 0\n",
        "    for i in range(len(data)):\n",
        "        if max < len(data[i]):\n",
        "            max = len(data[i])\n",
        "            index = i\n",
        "    return max, index\n",
        "\n",
        "def pad_sequence(arr, max_length):\n",
        "    for i in range(len(arr)):\n",
        "        arr[i] = np.asarray(arr[i])\n",
        "        # for k in range(len(arr[i])):\n",
        "            # arr[i][k] = float(arr[i][k])\n",
        "        for j in range(len(arr[i]), max_length):\n",
        "            # arr[i].append(0.0)\n",
        "            arr[i] = np.append(arr[i], 0.0)\n",
        "            # np.concatenate(arr[i], np.array([0]))\n",
        "    return arr"
      ]
    },
    {
      "cell_type": "markdown",
      "metadata": {
        "id": "c4pcSwTYoQno"
      },
      "source": [
        "## Preprocessing"
      ]
    },
    {
      "cell_type": "code",
      "execution_count": 57,
      "metadata": {
        "id": "snDm0sKSoQno"
      },
      "outputs": [],
      "source": [
        "for j in range(len(X_train)):\n",
        "    X_train[j] = preprocess(X_train[j])\n",
        "\n",
        "for k in range(len(X_test)):\n",
        "    X_test[k] = preprocess(X_test[k])"
      ]
    },
    {
      "cell_type": "code",
      "source": [
        "X_train"
      ],
      "metadata": {
        "colab": {
          "base_uri": "https://localhost:8080/"
        },
        "id": "JLgqZs9TrFdv",
        "outputId": "ebdcaee1-f7aa-4805-a2d0-ac21f32f953f"
      },
      "execution_count": 58,
      "outputs": [
        {
          "output_type": "execute_result",
          "data": {
            "text/plain": [
              "array([list(['betewe', 'buka', 'twitter', 'cuman', 'ngetweet', 'liat', 'home', 'berita', 'corona', 'panik', 'kepikiran', 'ndamau', 'buka', 'home', 'yg', 'aware', 'aja', 'i', 'll', 'stay', 'at', 'home', 'nda', 'rumah', 'kalo', 'nda', 'penting', 'banget']),\n",
              "       list(['mas', 'piyuu', 'mugo', 'corona', 'tuh', 'mulut', 'tersumpal', 'ma', 'corona']),\n",
              "       list(['e', 'ss', 'gini', 'buka', 'informasi', 'sejelas', 'nya', 'identitas', 'daerah', 'penderita', 'terjangkit', 'infokan', 'masyarakat', 'mengisolasi', 'nya', 'kontak', 'langsung', 'penderita', 'positif', 'corona', 'ditutup', 'tutupi']),\n",
              "       ...,\n",
              "       list(['virus', 'corona', 'menyaba', 'depok', 'cuci', 'tangan', 'makan', 'nya', 'biar', 'tangan', 'ora', 'lengket', 'be', 'kena', 'nasi']),\n",
              "       list(['mata', 'sipit', 'tinggal', 'depok', 'udah', 'abis', 'dah', 'bahan', 'cengan', 'dikampus', 'bangsd', 'dikit', 'dikit', 'corona', 'co', 'amp', 'tol']),\n",
              "       list(['i', 'ak', 'batuk', 'pilek', 'pusing', 'demam', 'anjir', 'ak', 'depok'])],\n",
              "      dtype=object)"
            ]
          },
          "metadata": {},
          "execution_count": 58
        }
      ]
    },
    {
      "cell_type": "code",
      "source": [
        "X_test"
      ],
      "metadata": {
        "colab": {
          "base_uri": "https://localhost:8080/"
        },
        "id": "cTc8MtncrJmv",
        "outputId": "89c4934c-45a9-4ea8-890f-21f0f91c4fba"
      },
      "execution_count": 59,
      "outputs": [
        {
          "output_type": "execute_result",
          "data": {
            "text/plain": [
              "array([list(['jek', 'dajal', 'ga', 'depok', 'bang']),\n",
              "       list(['detikcom', 'untung', 'depok', 'masuk', 'wilayah', 'nya', 'ridwan', 'kamil', 'kalo', 'masuk', 'wilayah', 'nya', 'anis', 'abis', 'lu', 'bully', 'ama', 'buzzer', 'kolam']),\n",
              "       list(['df', 'dom', 'jakarta', 'depok', 'yg', 'gunain', 'vc', 'cabang', 'nya', 'cabang', 'yg', 'tercantum', 'pas', 'kesana', 'gabisa', 'bayar', 'pake', 'shopeepay']),\n",
              "       ...,\n",
              "       list(['terawan', 'menyebut', 'virus', 'corona', 'indonesia', 'terdeteksi', 'minggu', 'kemarin', 'mendengar', 'berita', 'pemerintah', 'langsung', 'pemeriksaan', 'covid', 'indonesia']),\n",
              "       list(['realffk', 'buhari', 'can', 't', 'pronounce', 'corona', 'virus']),\n",
              "       list(['hadapi', 'wabah', 'corona', 'pemuda', 'muhammadiyah', 'pemerintah', 'cegah', 'munculnya', 'kepanikan'])],\n",
              "      dtype=object)"
            ]
          },
          "metadata": {},
          "execution_count": 59
        }
      ]
    },
    {
      "cell_type": "code",
      "source": [
        "corpus = X_train\n",
        "corpus"
      ],
      "metadata": {
        "colab": {
          "base_uri": "https://localhost:8080/"
        },
        "id": "Sa7gce0mBMPb",
        "outputId": "cca0d672-5f59-403b-b329-8cb5a864d7c1"
      },
      "execution_count": 60,
      "outputs": [
        {
          "output_type": "execute_result",
          "data": {
            "text/plain": [
              "array([list(['betewe', 'buka', 'twitter', 'cuman', 'ngetweet', 'liat', 'home', 'berita', 'corona', 'panik', 'kepikiran', 'ndamau', 'buka', 'home', 'yg', 'aware', 'aja', 'i', 'll', 'stay', 'at', 'home', 'nda', 'rumah', 'kalo', 'nda', 'penting', 'banget']),\n",
              "       list(['mas', 'piyuu', 'mugo', 'corona', 'tuh', 'mulut', 'tersumpal', 'ma', 'corona']),\n",
              "       list(['e', 'ss', 'gini', 'buka', 'informasi', 'sejelas', 'nya', 'identitas', 'daerah', 'penderita', 'terjangkit', 'infokan', 'masyarakat', 'mengisolasi', 'nya', 'kontak', 'langsung', 'penderita', 'positif', 'corona', 'ditutup', 'tutupi']),\n",
              "       ...,\n",
              "       list(['virus', 'corona', 'menyaba', 'depok', 'cuci', 'tangan', 'makan', 'nya', 'biar', 'tangan', 'ora', 'lengket', 'be', 'kena', 'nasi']),\n",
              "       list(['mata', 'sipit', 'tinggal', 'depok', 'udah', 'abis', 'dah', 'bahan', 'cengan', 'dikampus', 'bangsd', 'dikit', 'dikit', 'corona', 'co', 'amp', 'tol']),\n",
              "       list(['i', 'ak', 'batuk', 'pilek', 'pusing', 'demam', 'anjir', 'ak', 'depok'])],\n",
              "      dtype=object)"
            ]
          },
          "metadata": {},
          "execution_count": 60
        }
      ]
    },
    {
      "cell_type": "markdown",
      "source": [
        "## Feature Extraction"
      ],
      "metadata": {
        "id": "Zy5kG7mglPDl"
      }
    },
    {
      "cell_type": "code",
      "source": [
        "MAX_COLUMN_LENGTH = 50\n",
        "VECTOR_SIZE = 300"
      ],
      "metadata": {
        "id": "ATO_P6VQ-h-y"
      },
      "execution_count": 61,
      "outputs": []
    },
    {
      "cell_type": "code",
      "source": [
        "nlp = gensim.models.word2vec.Word2Vec(X_train, min_count=5, size=VECTOR_SIZE)"
      ],
      "metadata": {
        "id": "2m_R5aW0_A-0"
      },
      "execution_count": 62,
      "outputs": []
    },
    {
      "cell_type": "code",
      "source": [
        "nlp['agama'].shape"
      ],
      "metadata": {
        "colab": {
          "base_uri": "https://localhost:8080/"
        },
        "id": "8pFNtoP3_lCy",
        "outputId": "c866cdf4-8bd9-4226-f1df-a67043a9119a"
      },
      "execution_count": 63,
      "outputs": [
        {
          "output_type": "stream",
          "name": "stderr",
          "text": [
            "/usr/local/lib/python3.7/dist-packages/ipykernel_launcher.py:1: DeprecationWarning: Call to deprecated `__getitem__` (Method will be removed in 4.0.0, use self.wv.__getitem__() instead).\n",
            "  \"\"\"Entry point for launching an IPython kernel.\n"
          ]
        },
        {
          "output_type": "execute_result",
          "data": {
            "text/plain": [
              "(300,)"
            ]
          },
          "metadata": {},
          "execution_count": 63
        }
      ]
    },
    {
      "cell_type": "code",
      "source": [
        "#tokenize text\n",
        "tokenizer = kprocessing.text.Tokenizer(lower=True, split=' ', \n",
        "                     oov_token=\"NaN\", \n",
        "                     filters='!\"#$%&()*+,-./:;<=>?@[\\\\]^_`{|}~\\t\\n')\n",
        "tokenizer.fit_on_texts(corpus)\n",
        "dic_vocabulary = tokenizer.word_index"
      ],
      "metadata": {
        "id": "9pzM9OWU_y8K"
      },
      "execution_count": 64,
      "outputs": []
    },
    {
      "cell_type": "code",
      "source": [
        "## create sequence\n",
        "lst_text2seq= tokenizer.texts_to_sequences(corpus)"
      ],
      "metadata": {
        "id": "-N6K2pdk_8S5"
      },
      "execution_count": 65,
      "outputs": []
    },
    {
      "cell_type": "code",
      "source": [
        "## padding sequence\n",
        "X_train = kprocessing.sequence.pad_sequences(lst_text2seq, \n",
        "                    maxlen=MAX_COLUMN_LENGTH, padding=\"post\", truncating=\"post\")"
      ],
      "metadata": {
        "id": "9CP_2o96ACrt"
      },
      "execution_count": 66,
      "outputs": []
    },
    {
      "cell_type": "code",
      "source": [
        "MAX_COLUMN_LENGTH"
      ],
      "metadata": {
        "colab": {
          "base_uri": "https://localhost:8080/"
        },
        "id": "6vtHJKPCcOPL",
        "outputId": "5761cffc-127e-4ceb-f2da-2fa54d0e0cb0"
      },
      "execution_count": 67,
      "outputs": [
        {
          "output_type": "execute_result",
          "data": {
            "text/plain": [
              "50"
            ]
          },
          "metadata": {},
          "execution_count": 67
        }
      ]
    },
    {
      "cell_type": "code",
      "source": [
        "sns.heatmap(X_train==0, vmin=0, vmax=1, cbar=False)\n",
        "plt.show()"
      ],
      "metadata": {
        "colab": {
          "base_uri": "https://localhost:8080/",
          "height": 270
        },
        "id": "NsyppTSjAH0q",
        "outputId": "50ee97b5-ebe5-4d62-e84a-4535bee77754"
      },
      "execution_count": 68,
      "outputs": [
        {
          "output_type": "display_data",
          "data": {
            "text/plain": [
              "<Figure size 432x288 with 1 Axes>"
            ],
            "image/png": "[encoded data removed]"
          },
          "metadata": {
            "needs_background": "light"
          }
        }
      ]
    },
    {
      "cell_type": "code",
      "source": [
        "X_train.shape"
      ],
      "metadata": {
        "colab": {
          "base_uri": "https://localhost:8080/"
        },
        "id": "yqLnqoRhH5kU",
        "outputId": "e1e09913-54a0-4aae-984b-edf4c9c8e252"
      },
      "execution_count": 69,
      "outputs": [
        {
          "output_type": "execute_result",
          "data": {
            "text/plain": [
              "(21601, 50)"
            ]
          },
          "metadata": {},
          "execution_count": 69
        }
      ]
    },
    {
      "cell_type": "code",
      "source": [
        "corpus = X_test\n",
        "\n",
        "## text to sequence with the fitted tokenizer\n",
        "lst_text2seq = tokenizer.texts_to_sequences(corpus)\n",
        "\n",
        "## padding sequence\n",
        "X_test = kprocessing.sequence.pad_sequences(lst_text2seq, maxlen=MAX_COLUMN_LENGTH,\n",
        "             padding=\"post\", truncating=\"post\")"
      ],
      "metadata": {
        "id": "RW--Pu9gCKLL"
      },
      "execution_count": 70,
      "outputs": []
    },
    {
      "cell_type": "code",
      "source": [
        "X_test.shape"
      ],
      "metadata": {
        "colab": {
          "base_uri": "https://localhost:8080/"
        },
        "id": "3R7W_6jnIdNG",
        "outputId": "45af0aab-d0a5-4856-a110-7b53731698f2"
      },
      "execution_count": 71,
      "outputs": [
        {
          "output_type": "execute_result",
          "data": {
            "text/plain": [
              "(2800, 50)"
            ]
          },
          "metadata": {},
          "execution_count": 71
        }
      ]
    },
    {
      "cell_type": "code",
      "source": [
        "embeddings = np.zeros((len(dic_vocabulary)+1, VECTOR_SIZE))\n",
        "\n",
        "for word,idx in dic_vocabulary.items():\n",
        "    ## update the row with vector\n",
        "    try:\n",
        "        embeddings[idx] =  nlp[word]\n",
        "    ## if word not in model then skip and the row stays all 0s\n",
        "    except:\n",
        "        pass"
      ],
      "metadata": {
        "colab": {
          "base_uri": "https://localhost:8080/"
        },
        "id": "4SmVgoDVCsLk",
        "outputId": "5ccf65ef-0e0c-4d07-d25b-f4e349fb19cd"
      },
      "execution_count": 72,
      "outputs": [
        {
          "output_type": "stream",
          "name": "stderr",
          "text": [
            "/usr/local/lib/python3.7/dist-packages/ipykernel_launcher.py:6: DeprecationWarning: Call to deprecated `__getitem__` (Method will be removed in 4.0.0, use self.wv.__getitem__() instead).\n",
            "  \n"
          ]
        }
      ]
    },
    {
      "cell_type": "markdown",
      "source": [
        "## Deep Learning"
      ],
      "metadata": {
        "id": "ro24G3sPlCXr"
      }
    },
    {
      "cell_type": "markdown",
      "source": [
        "Arsitektur jaringan Deep Learning yang digunakan adalah sebagai berikut:\n",
        "- 1 Input Layer\n",
        "- 1 Embedding Layer\n",
        "- 2 Layer Biderictional LSTM\n",
        "- 2 Dense Layer\n",
        "\n",
        "Eksperimen tuning parameter akan dilakukan terhadap 2 paramater, yaitu batch_size dan epochs. Eksperimen tuning dilakukan dengan asumsi tidak ada ketergantungan antar-parameter."
      ],
      "metadata": {
        "id": "k8iQQCuylXlb"
      }
    },
    {
      "cell_type": "code",
      "source": [
        "## Input Layer\n",
        "x_in = layers.Input(shape=(MAX_COLUMN_LENGTH,))\n",
        "\n",
        "## Embedding Layer\n",
        "x = layers.Embedding(input_dim=embeddings.shape[0],  \n",
        "                     output_dim=embeddings.shape[1], \n",
        "                     weights=[embeddings],\n",
        "                     input_length=15, trainable=False)(x_in)\n",
        "\n",
        "## 2 Layers of Bidirectional LSTM\n",
        "x = layers.Bidirectional(layers.LSTM(units=15, dropout=0.2, \n",
        "                         return_sequences=True))(x)\n",
        "x = layers.Bidirectional(layers.LSTM(units=15, dropout=0.2))(x)\n",
        "\n",
        "## Final Dense Layers\n",
        "x = layers.Dense(64, activation='relu')(x)\n",
        "y_out = layers.Dense(2, activation='softmax')(x)\n",
        "\n",
        "## Compile\n",
        "model = models.Model(x_in, y_out)\n",
        "model.compile(loss='sparse_categorical_crossentropy',\n",
        "              optimizer='adam', metrics=['accuracy'], run_eagerly=True)\n",
        "\n",
        "model.summary()"
      ],
      "metadata": {
        "colab": {
          "base_uri": "https://localhost:8080/"
        },
        "id": "JY5mizE_C68F",
        "outputId": "82a335a5-555e-426d-dccd-bbc26aea47a3"
      },
      "execution_count": 73,
      "outputs": [
        {
          "output_type": "stream",
          "name": "stdout",
          "text": [
            "Model: \"model_11\"\n",
            "_________________________________________________________________\n",
            " Layer (type)                Output Shape              Param #   \n",
            "=================================================================\n",
            " input_2 (InputLayer)        [(None, 50)]              0         \n",
            "                                                                 \n",
            " embedding_1 (Embedding)     (None, 50, 300)           13387500  \n",
            "                                                                 \n",
            " bidirectional_2 (Bidirectio  (None, 50, 30)           37920     \n",
            " nal)                                                            \n",
            "                                                                 \n",
            " bidirectional_3 (Bidirectio  (None, 30)               5520      \n",
            " nal)                                                            \n",
            "                                                                 \n",
            " dense_2 (Dense)             (None, 64)                1984      \n",
            "                                                                 \n",
            " dense_3 (Dense)             (None, 2)                 130       \n",
            "                                                                 \n",
            "=================================================================\n",
            "Total params: 13,433,054\n",
            "Trainable params: 45,554\n",
            "Non-trainable params: 13,387,500\n",
            "_________________________________________________________________\n"
          ]
        }
      ]
    },
    {
      "cell_type": "code",
      "source": [
        "dic_y_mapping = {n:label for n,label in enumerate(np.unique(y_train))}\n",
        "\n",
        "inverse_dic = {v:k for k,v in dic_y_mapping.items()}\n",
        "\n",
        "y_train = np.array([inverse_dic[y] for y in y_train])\n"
      ],
      "metadata": {
        "id": "Rmn0HTuODO8g"
      },
      "execution_count": 74,
      "outputs": []
    },
    {
      "cell_type": "code",
      "source": [
        "training = model.fit(x=X_train, y=y_train, batch_size=256, \n",
        "                     epochs=10, shuffle=True, verbose=0, \n",
        "                     validation_split=0.3)"
      ],
      "metadata": {
        "id": "UTm19heSDeKl"
      },
      "execution_count": 75,
      "outputs": []
    },
    {
      "cell_type": "code",
      "source": [
        "metrics = [k for k in training.history.keys() if (\"loss\" not in k) and (\"val\" not in k)]\n",
        "fig, ax = plt.subplots(nrows=1, ncols=2, sharey=True)\n",
        "ax[0].set(title=\"Training\")\n",
        "ax11 = ax[0].twinx()\n",
        "ax[0].plot(training.history['loss'], color='black')\n",
        "ax[0].set_xlabel('Epochs')\n",
        "ax[0].set_ylabel('Loss', color='black')\n",
        "for metric in metrics:\n",
        "    ax11.plot(training.history[metric], label=metric)\n",
        "ax11.set_ylabel(\"Score\", color='steelblue')\n",
        "ax11.legend()\n",
        "ax[1].set(title=\"Validation\")\n",
        "ax22 = ax[1].twinx()\n",
        "ax[1].plot(training.history['val_loss'], color='black')\n",
        "ax[1].set_xlabel('Epochs')\n",
        "ax[1].set_ylabel('Loss', color='black')\n",
        "for metric in metrics:\n",
        "     ax22.plot(training.history['val_'+metric], label=metric)\n",
        "ax22.set_ylabel(\"Score\", color=\"steelblue\")\n",
        "plt.show()"
      ],
      "metadata": {
        "colab": {
          "base_uri": "https://localhost:8080/",
          "height": 295
        },
        "id": "AWSt2ocHD9Tl",
        "outputId": "1f3c169d-e351-4f7d-a066-5a706a5ebbe3"
      },
      "execution_count": 76,
      "outputs": [
        {
          "output_type": "display_data",
          "data": {
            "text/plain": [
              "<Figure size 432x288 with 4 Axes>"
            ],
            "image/png": "[encoded data removed]"
          },
          "metadata": {
            "needs_background": "light"
          }
        }
      ]
    },
    {
      "cell_type": "code",
      "source": [
        "predicted_prob = model.predict(X_test)\n",
        "predicted = [dic_y_mapping[np.argmax(pred)] for pred in \n",
        "             predicted_prob]"
      ],
      "metadata": {
        "id": "YRKaGpiz2352"
      },
      "execution_count": 77,
      "outputs": []
    },
    {
      "cell_type": "code",
      "source": [
        "print(\"ACCURACY: \", accuracy_score(y_test, predicted))\n",
        "print(\"PRECISION: \", precision_score(y_test, predicted, pos_label=\"yes\"))\n",
        "print(\"RECALL: \", recall_score(y_test, predicted, pos_label=\"yes\"))\n",
        "print(\"F1: \", f1_score(y_test, predicted, pos_label=\"yes\"))\n",
        "print()\n",
        "print(\"CONFUSION MATRIX:\")\n",
        "\n",
        "cm = confusion_matrix(y_test, predicted, labels=[\"no\",\"yes\"])\n",
        "disp = ConfusionMatrixDisplay(confusion_matrix=cm, display_labels=[\"no\",\"yes\"])\n",
        "disp.plot()\n",
        "plt.show()"
      ],
      "metadata": {
        "colab": {
          "base_uri": "https://localhost:8080/",
          "height": 388
        },
        "id": "ErQIRBgLJaAo",
        "outputId": "f6dd3c84-9836-4a21-d5e8-01a636df2e67"
      },
      "execution_count": 78,
      "outputs": [
        {
          "output_type": "stream",
          "name": "stdout",
          "text": [
            "ACCURACY:  0.8307142857142857\n",
            "PRECISION:  0.8436578171091446\n",
            "RECALL:  0.4045261669024045\n",
            "F1:  0.5468451242829827\n",
            "\n",
            "CONFUSION MATRIX:\n"
          ]
        },
        {
          "output_type": "display_data",
          "data": {
            "text/plain": [
              "<Figure size 432x288 with 2 Axes>"
            ],
            "image/png": "[encoded data removed]"
          },
          "metadata": {
            "needs_background": "light"
          }
        }
      ]
    },
    {
      "cell_type": "markdown",
      "source": [
        "### Batch Size"
      ],
      "metadata": {
        "id": "00du7GVqlsab"
      }
    },
    {
      "cell_type": "code",
      "source": [
        "batch_size_128 = models.Model(x_in, y_out)\n",
        "batch_size_128.compile(loss='sparse_categorical_crossentropy',\n",
        "              optimizer='adam', metrics=['accuracy'], run_eagerly=True)\n",
        "history_batch_size_128 = model.fit(x=X_train, y=y_train, batch_size=128, \n",
        "                     shuffle=True,\n",
        "                     validation_split=0.3)\n"
      ],
      "metadata": {
        "colab": {
          "base_uri": "https://localhost:8080/"
        },
        "id": "mvpPv-mQ47eP",
        "outputId": "5990a09e-f6e0-461f-a8ec-f626f954fe6c"
      },
      "execution_count": 79,
      "outputs": [
        {
          "output_type": "stream",
          "name": "stdout",
          "text": [
            "119/119 [==============================] - 9s 73ms/step - loss: 0.3509 - accuracy: 0.8478 - val_loss: 0.3859 - val_accuracy: 0.8222\n"
          ]
        }
      ]
    },
    {
      "cell_type": "code",
      "source": [
        "batch_size_256 = models.Model(x_in, y_out)\n",
        "batch_size_256.compile(loss='sparse_categorical_crossentropy',\n",
        "              optimizer='adam', metrics=['accuracy'], run_eagerly=True)\n",
        "history_batch_size_256 = model.fit(x=X_train, y=y_train, batch_size=256, \n",
        "                     shuffle=True,\n",
        "                     validation_split=0.3)\n"
      ],
      "metadata": {
        "colab": {
          "base_uri": "https://localhost:8080/"
        },
        "id": "VkPwXOOpnLy9",
        "outputId": "3a5856e9-6846-4daa-e33e-f212e17fba8d"
      },
      "execution_count": 80,
      "outputs": [
        {
          "output_type": "stream",
          "name": "stdout",
          "text": [
            "60/60 [==============================] - 5s 76ms/step - loss: 0.3430 - accuracy: 0.8510 - val_loss: 0.3843 - val_accuracy: 0.8298\n"
          ]
        }
      ]
    },
    {
      "cell_type": "code",
      "source": [
        "batch_size_512 = models.Model(x_in, y_out)\n",
        "batch_size_512.compile(loss='sparse_categorical_crossentropy',\n",
        "              optimizer='adam', metrics=['accuracy'], run_eagerly=True)\n",
        "history_batch_size_512 = model.fit(x=X_train, y=y_train, batch_size=512, \n",
        "                     shuffle=True,\n",
        "                     validation_split=0.3)\n"
      ],
      "metadata": {
        "colab": {
          "base_uri": "https://localhost:8080/"
        },
        "id": "W8BF_Y36nfQk",
        "outputId": "1b8541e8-9251-4ffb-ff75-ae85add8f766"
      },
      "execution_count": 81,
      "outputs": [
        {
          "output_type": "stream",
          "name": "stdout",
          "text": [
            "30/30 [==============================] - 2s 78ms/step - loss: 0.3398 - accuracy: 0.8538 - val_loss: 0.3828 - val_accuracy: 0.8286\n"
          ]
        }
      ]
    },
    {
      "cell_type": "markdown",
      "source": [
        "### Epochs"
      ],
      "metadata": {
        "id": "opqVWTS66QKm"
      }
    },
    {
      "cell_type": "code",
      "source": [
        "epoch_2 = models.Model(x_in, y_out)\n",
        "epoch_2.compile(loss='sparse_categorical_crossentropy',\n",
        "              optimizer='adam', metrics=['accuracy'], run_eagerly=True)\n",
        "history_epoch_2 = model.fit(x=X_train, y=y_train, \n",
        "                            epochs=2,\n",
        "                            batch_size=512, \n",
        "                            shuffle=True,\n",
        "                            validation_split=0.3)"
      ],
      "metadata": {
        "colab": {
          "base_uri": "https://localhost:8080/"
        },
        "id": "9GOfJTkS6adg",
        "outputId": "e599e0ab-fee8-4b2d-996a-eccbc5297229"
      },
      "execution_count": 82,
      "outputs": [
        {
          "output_type": "stream",
          "name": "stdout",
          "text": [
            "Epoch 1/2\n",
            "30/30 [==============================] - 3s 87ms/step - loss: 0.3344 - accuracy: 0.8554 - val_loss: 0.3861 - val_accuracy: 0.8261\n",
            "Epoch 2/2\n",
            "30/30 [==============================] - 3s 85ms/step - loss: 0.3353 - accuracy: 0.8552 - val_loss: 0.3796 - val_accuracy: 0.8306\n"
          ]
        }
      ]
    },
    {
      "cell_type": "code",
      "source": [
        "epoch_4 = models.Model(x_in, y_out)\n",
        "epoch_4.compile(loss='sparse_categorical_crossentropy',\n",
        "              optimizer='adam', metrics=['accuracy'], run_eagerly=True)\n",
        "history_epoch_4 = model.fit(x=X_train, y=y_train, \n",
        "                            epochs=4,\n",
        "                            batch_size=512, \n",
        "                            shuffle=True,\n",
        "                            validation_split=0.3)"
      ],
      "metadata": {
        "colab": {
          "base_uri": "https://localhost:8080/"
        },
        "id": "Gdbu2ohK621w",
        "outputId": "163db4b9-2ffb-49e8-f7bc-24f2d8be04a0"
      },
      "execution_count": 83,
      "outputs": [
        {
          "output_type": "stream",
          "name": "stdout",
          "text": [
            "Epoch 1/4\n",
            "30/30 [==============================] - 3s 85ms/step - loss: 0.3345 - accuracy: 0.8563 - val_loss: 0.3955 - val_accuracy: 0.8216\n",
            "Epoch 2/4\n",
            "30/30 [==============================] - 2s 83ms/step - loss: 0.3328 - accuracy: 0.8550 - val_loss: 0.3760 - val_accuracy: 0.8300\n",
            "Epoch 3/4\n",
            "30/30 [==============================] - 2s 74ms/step - loss: 0.3301 - accuracy: 0.8572 - val_loss: 0.3731 - val_accuracy: 0.8318\n",
            "Epoch 4/4\n",
            "30/30 [==============================] - 2s 74ms/step - loss: 0.3292 - accuracy: 0.8589 - val_loss: 0.3831 - val_accuracy: 0.8280\n"
          ]
        }
      ]
    },
    {
      "cell_type": "code",
      "source": [
        "epoch_8 = models.Model(x_in, y_out)\n",
        "epoch_8.compile(loss='sparse_categorical_crossentropy',\n",
        "              optimizer='adam', metrics=['accuracy'], run_eagerly=True)\n",
        "history_epoch_8 = model.fit(x=X_train, y=y_train, \n",
        "                            epochs=8,\n",
        "                            batch_size=512, \n",
        "                            shuffle=True,\n",
        "                            validation_split=0.3)"
      ],
      "metadata": {
        "colab": {
          "base_uri": "https://localhost:8080/"
        },
        "id": "x8RNgE816_9E",
        "outputId": "71a2bf4b-6386-45cf-a1a0-ceecdfdd96a4"
      },
      "execution_count": 84,
      "outputs": [
        {
          "output_type": "stream",
          "name": "stdout",
          "text": [
            "Epoch 1/8\n",
            "30/30 [==============================] - 3s 84ms/step - loss: 0.3281 - accuracy: 0.8585 - val_loss: 0.3791 - val_accuracy: 0.8306\n",
            "Epoch 2/8\n",
            "30/30 [==============================] - 2s 75ms/step - loss: 0.3287 - accuracy: 0.8579 - val_loss: 0.3679 - val_accuracy: 0.8317\n",
            "Epoch 3/8\n",
            "30/30 [==============================] - 2s 75ms/step - loss: 0.3250 - accuracy: 0.8608 - val_loss: 0.3743 - val_accuracy: 0.8338\n",
            "Epoch 4/8\n",
            "30/30 [==============================] - 2s 83ms/step - loss: 0.3252 - accuracy: 0.8599 - val_loss: 0.4008 - val_accuracy: 0.8263\n",
            "Epoch 5/8\n",
            "30/30 [==============================] - 3s 87ms/step - loss: 0.3262 - accuracy: 0.8586 - val_loss: 0.3684 - val_accuracy: 0.8331\n",
            "Epoch 6/8\n",
            "30/30 [==============================] - 3s 84ms/step - loss: 0.3244 - accuracy: 0.8570 - val_loss: 0.3699 - val_accuracy: 0.8343\n",
            "Epoch 7/8\n",
            "30/30 [==============================] - 2s 75ms/step - loss: 0.3225 - accuracy: 0.8612 - val_loss: 0.3716 - val_accuracy: 0.8338\n",
            "Epoch 8/8\n",
            "30/30 [==============================] - 2s 74ms/step - loss: 0.3219 - accuracy: 0.8609 - val_loss: 0.3715 - val_accuracy: 0.8364\n"
          ]
        }
      ]
    }
  ],
  "metadata": {
    "kernelspec": {
      "display_name": "Python 3.10.5 64-bit",
      "language": "python",
      "name": "python3"
    },
    "language_info": {
      "codemirror_mode": {
        "name": "ipython",
        "version": 3
      },
      "file_extension": ".py",
      "mimetype": "text/x-python",
      "name": "python",
      "nbconvert_exporter": "python",
      "pygments_lexer": "ipython3",
      "version": "3.10.5"
    },
    "orig_nbformat": 4,
    "vscode": {
      "interpreter": {
        "hash": "2f39344cd9bf0fe16addc7809bae1a37b99040c13670647bdcb1e02056ba255c"
      }
    },
    "colab": {
      "provenance": [],
      "collapsed_sections": []
    },
    "accelerator": "GPU"
  },
  "nbformat": 4,
  "nbformat_minor": 0
}